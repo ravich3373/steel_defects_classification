{
 "cells": [
  {
   "cell_type": "markdown",
   "metadata": {
    "_cell_guid": "b1076dfc-b9ad-4769-8c92-a6c4dae69d19",
    "_uuid": "8f2839f25d086af736a60e9eeb907d3b93b6e0e5"
   },
   "source": [
    "[Ref](https://www.kaggle.com/paulorzp/run-length-encode-and-decode)"
   ]
  },
  {
   "cell_type": "code",
   "execution_count": 2,
   "metadata": {
    "_cell_guid": "79c7e3d0-c299-4dcb-8224-4455121ee9b0",
    "_uuid": "d629ff2d2480ee46fbb7e2d37f6b5fab8052498a"
   },
   "outputs": [],
   "source": [
    "import numpy as np\n",
    "import pandas as pd\n",
    "#from skimage.data import imread\n",
    "import matplotlib.pyplot as plt"
   ]
  },
  {
   "cell_type": "code",
   "execution_count": 3,
   "metadata": {},
   "outputs": [],
   "source": [
    "a = np.array([0,1,1,1,0,0,0,1,1,0,1,1,1])"
   ]
  },
  {
   "cell_type": "code",
   "execution_count": 5,
   "metadata": {},
   "outputs": [
    {
     "data": {
      "text/plain": [
       "'2 3 8 2 11 3'"
      ]
     },
     "execution_count": 5,
     "metadata": {},
     "output_type": "execute_result"
    }
   ],
   "source": [
    "rle_encode(a)"
   ]
  },
  {
   "cell_type": "code",
   "execution_count": 6,
   "metadata": {},
   "outputs": [
    {
     "data": {
      "text/plain": [
       "array([0, 1, 1, 1, 0, 0, 0, 1, 1, 0, 1, 1, 1])"
      ]
     },
     "execution_count": 6,
     "metadata": {},
     "output_type": "execute_result"
    }
   ],
   "source": [
    "a1 = np.concatenate([[0], a, [0]]);\n",
    "a"
   ]
  },
  {
   "cell_type": "code",
   "execution_count": 9,
   "metadata": {},
   "outputs": [
    {
     "data": {
      "text/plain": [
       "array([ 2,  5,  8, 10, 11, 14])"
      ]
     },
     "execution_count": 9,
     "metadata": {},
     "output_type": "execute_result"
    }
   ],
   "source": [
    "np.where(a1[1:] != a1[:-1])[0] + 1"
   ]
  },
  {
   "cell_type": "code",
   "execution_count": 4,
   "metadata": {
    "_uuid": "48fcb313d5b76bcfabee22ca515c5d3dc851eec7"
   },
   "outputs": [],
   "source": [
    "def rle_encode(img):\n",
    "    '''\n",
    "    img: numpy array, 1 - mask, 0 - background\n",
    "    Returns run length as string formated\n",
    "    '''\n",
    "    pixels = img.flatten()\n",
    "    pixels = np.concatenate([[0], pixels, [0]])\n",
    "    runs = np.where(pixels[1:] != pixels[:-1])[0] + 1\n",
    "    runs[1::2] -= runs[::2]\n",
    "    return ' '.join(str(x) for x in runs)"
   ]
  },
  {
   "cell_type": "markdown",
   "metadata": {
    "_uuid": "5fd28c1e0e64585b358c014af4d18facfe380003"
   },
   "source": [
    "## Deciphering `rle_encode`"
   ]
  },
  {
   "cell_type": "code",
   "execution_count": null,
   "metadata": {
    "_uuid": "c6efa5f974987409e6cd7bd516af07c36b75a634"
   },
   "outputs": [],
   "source": [
    "pixels = np.array((0, 1, 1, 1, 1, 0, 0, 0, 1))\n",
    "\n",
    "# Concatenating a zero at the start and end of the array is to\n",
    "# make sure that the first changing is always from 0 to 1\n",
    "pixels = np.concatenate([[0], pixels, [0]])\n",
    "print('pixels:', pixels)\n",
    "\n",
    "# the array except the first element\n",
    "print('pixels[1:]:', pixels[1:])\n",
    "# the array except the last element\n",
    "print('pixels[:-1]:', pixels[:-1])\n",
    "\n",
    "# runs include indices to wherever 0s change to 1s or 1s change to 0s\n",
    "print('where condition:', pixels[1:] != pixels[:-1])\n",
    "runs = np.where(pixels[1:] != pixels[:-1])\n",
    "print('runs:', runs)\n",
    "\n",
    "# the purpose of adding 1 here is to make sure that the indices point to\n",
    "# the very first 1s or 0s of the 1s or 0s, this is needed because\n",
    "# np.where gets the indices of elements before changing\n",
    "runs = runs[0] + 1\n",
    "print('runs = runs[0] + 1:', runs)\n",
    "\n",
    "# runs[1::2] --> runs[start:stop:step], thus 2 here is the step\n",
    "# thus runs[1::2] includes the indices of the changing from 1 to 0\n",
    "print('runs[1::2]:', runs[1::2])\n",
    "\n",
    "# runs[::2] includes the indices for the changing from 0 to 1\n",
    "print('runs[::2]:', runs[::2])\n",
    "\n",
    "# the length of 1s\n",
    "print('runs[1::2]-runs[::2]:', runs[1::2] - runs[::2])\n",
    "\n",
    "# replace runs[1::2] with the lengths of consecutive 1s\n",
    "runs[1::2] -= runs[::2]\n",
    "\n",
    "print('return:', ' '.join(str(x) for x in runs))"
   ]
  },
  {
   "cell_type": "code",
   "execution_count": null,
   "metadata": {
    "_uuid": "e5a6ba733e718d413d88ba03d8089311a2f8cf85"
   },
   "outputs": [],
   "source": [
    "def rle_decode(mask_rle, shape):\n",
    "    '''\n",
    "    mask_rle: run-length as string formated (start length)\n",
    "    shape: (height,width) of array to return \n",
    "    Returns numpy array, 1 - mask, 0 - background\n",
    "    '''\n",
    "    s = mask_rle.split()\n",
    "    starts, lengths = [np.asarray(x, dtype=int) for x in (s[0:][::2], s[1:][::2])]\n",
    "    starts -= 1\n",
    "    ends = starts + lengths\n",
    "    img = np.zeros(shape[0] * shape[1], dtype=np.uint8)\n",
    "\n",
    "    for lo, hi in zip(starts, ends):\n",
    "        img[lo:hi] = 1\n",
    "    return img.reshape(shape)"
   ]
  },
  {
   "cell_type": "markdown",
   "metadata": {
    "_uuid": "6feadfb4874a06cf4caa4105973bad1c879a7d33"
   },
   "source": [
    "## Deciphering `rle_decode`"
   ]
  },
  {
   "cell_type": "code",
   "execution_count": null,
   "metadata": {
    "_uuid": "28ca58ab15afb7d5936f69e2d08666889e9e582c"
   },
   "outputs": [],
   "source": [
    "mask_rle = ' '.join(str(x) for x in runs)\n",
    "s = mask_rle.split()\n",
    "print('s:', s)\n",
    "\n",
    "print('s[0:][::2]:', s[0:][::2])\n",
    "assert(s[0:][::2] == s[::2])\n",
    "\n",
    "print('s[1:][::2]:', s[1:][::2])\n",
    "assert(s[1:][::2] == s[1::2])\n",
    "\n",
    "starts = [np.asarray(x, dtype=int) for x in (s[0:][::2], s[1:][::2])]\n",
    "print('starts:', starts)\n",
    "\n",
    "rle_decode(mask_rle, (1, 9))"
   ]
  },
  {
   "cell_type": "markdown",
   "metadata": {
    "_uuid": "1c98d8f2daa4035cf3deb6626e4695f16aa293c5"
   },
   "source": [
    "## Testing `rle_encode` and `rle_decode`"
   ]
  },
  {
   "cell_type": "code",
   "execution_count": null,
   "metadata": {
    "_uuid": "2866644c96231a425948273eab9d32d314959296"
   },
   "outputs": [],
   "source": [
    "def rle_test():\n",
    "    for i in range(100):\n",
    "        data = np.random.randint(0, 2, (100,100))\n",
    "        data_rle_enc = rle_encode(data)\n",
    "        data_rle_dec = rle_decode(data_rle_enc, data.shape)\n",
    "        np.testing.assert_allclose(data, data_rle_dec)"
   ]
  },
  {
   "cell_type": "code",
   "execution_count": null,
   "metadata": {
    "_uuid": "eb36c43ec3ed53e098cb2b4cd023c310835955e1"
   },
   "outputs": [],
   "source": [
    "rle_test()"
   ]
  },
  {
   "cell_type": "markdown",
   "metadata": {
    "_uuid": "2e2996a381484171eee5691284b94367e68801fc"
   },
   "source": [
    "## Test above code with airbus ship challenge data\n",
    "\n",
    "[Ref](https://www.kaggle.com/inversion/run-length-decoding-quick-start)"
   ]
  },
  {
   "cell_type": "code",
   "execution_count": null,
   "metadata": {
    "_uuid": "5e747f9b0cda80f4148d3572dfc9db3ebd3eb25e"
   },
   "outputs": [],
   "source": [
    "masks = pd.read_csv('../input/train_ship_segmentations.csv')\n",
    "num_masks = masks.shape[0]\n",
    "print('number of training images', num_masks)\n",
    "masks.head()"
   ]
  },
  {
   "cell_type": "code",
   "execution_count": null,
   "metadata": {
    "_uuid": "54df2be15173e762a89d6b2f9055a5df6cfd2101"
   },
   "outputs": [],
   "source": [
    "def display_img_and_masks(ImageId, ImgShape=(768, 768)):\n",
    "    img = imread('../input/train/' + ImageId)\n",
    "    img_masks = masks.loc[masks['ImageId'] == ImageId, 'EncodedPixels'].tolist()\n",
    "\n",
    "    # Take the individual ship masks and create a single mask array for all ships\n",
    "    all_masks = np.zeros(ImgShape)\n",
    "\n",
    "    for mask in img_masks:\n",
    "        # Note that NaN should compare as not equal to itself\n",
    "        if mask == mask:\n",
    "            all_masks += rle_decode(mask, ImgShape).T\n",
    "\n",
    "    fig, axarr = plt.subplots(1, 3, figsize=(15, 40))\n",
    "    axarr[0].axis('off')\n",
    "    axarr[1].axis('off')\n",
    "    axarr[2].axis('off')\n",
    "    axarr[0].imshow(img)\n",
    "    axarr[1].imshow(all_masks)\n",
    "    axarr[2].imshow(img)\n",
    "    axarr[2].imshow(all_masks, alpha=0.4)\n",
    "    plt.tight_layout(h_pad=0.1, w_pad=0.1)\n",
    "    plt.show()"
   ]
  },
  {
   "cell_type": "code",
   "execution_count": null,
   "metadata": {
    "_uuid": "166710f71f370a472b86d6d7abc64650201e8d7b"
   },
   "outputs": [],
   "source": [
    "# image that has ships\n",
    "ImageId = '000155de5.jpg'\n",
    "display_img_and_masks(ImageId)"
   ]
  },
  {
   "cell_type": "code",
   "execution_count": null,
   "metadata": {
    "_uuid": "44e56e7ecd1c798416f572fdacec16c070284024"
   },
   "outputs": [],
   "source": [
    "# image that has no ship\n",
    "ImageId = '00003e153.jpg'\n",
    "display_img_and_masks(ImageId)"
   ]
  }
 ],
 "metadata": {
  "kernelspec": {
   "display_name": "Python 3",
   "language": "python",
   "name": "python3"
  },
  "language_info": {
   "codemirror_mode": {
    "name": "ipython",
    "version": 3
   },
   "file_extension": ".py",
   "mimetype": "text/x-python",
   "name": "python",
   "nbconvert_exporter": "python",
   "pygments_lexer": "ipython3",
   "version": "3.7.2"
  }
 },
 "nbformat": 4,
 "nbformat_minor": 1
}
