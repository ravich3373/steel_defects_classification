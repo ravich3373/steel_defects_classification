{
 "cells": [
  {
   "cell_type": "markdown",
   "metadata": {},
   "source": [
    "This is an inference kernel of [this](https://www.kaggle.com/c/severstal-steel-defect-detection/discussion/111457#latest-647456) discussion. I followed Heng's steps and tried to replicate his results. I trained the model for around 18 hours and this kernel does the inference of that model. This kernel successfully commits but when I submit I get `Kaggle Error`. See version4 of this kernel.Maybe I am missing something; hopefully you can correct it, which is why I am opensourcing the trained model for you to experiment. The trained model is a traced version, which means you can load it by simply `model = torch.jit.load(ckpt).cuda()`"
   ]
  },
  {
   "cell_type": "code",
   "execution_count": 2,
   "metadata": {
    "_cell_guid": "b1076dfc-b9ad-4769-8c92-a6c4dae69d19",
    "_uuid": "8f2839f25d086af736a60e9eeb907d3b93b6e0e5"
   },
   "outputs": [],
   "source": [
    "import os\n",
    "import cv2\n",
    "import torch\n",
    "import pandas as pd\n",
    "import numpy as np\n",
    "import glob\n",
    "import gc\n",
    "from tqdm import tqdm\n",
    "import torch.backends.cudnn as cudnn\n",
    "from torch.utils.data import DataLoader, Dataset\n",
    "from albumentations import (Normalize, Resize, Compose)\n",
    "#from albumentations.torch import ToTensor\n",
    "from albumentations.pytorch.transforms import ToTensor\n",
    "import torch.utils.data as data\n",
    "import torchvision.models as models\n",
    "import torch.nn as nn\n",
    "from torch.nn import functional as F"
   ]
  },
  {
   "cell_type": "code",
   "execution_count": 3,
   "metadata": {},
   "outputs": [],
   "source": [
    "class SteelDataset(Dataset):\n",
    "    def __init__(self, df, augment=None):\n",
    "\n",
    "        \n",
    "        df['ImageId'] = df['ImageId_ClassId'].apply(lambda x: x.split('_')[0])\n",
    "        self.fnames = df['ImageId'].unique().tolist()\n",
    "        \n",
    "\n",
    "    def __len__(self):\n",
    "        return len(self.fnames)\n",
    "\n",
    "\n",
    "    def __getitem__(self, index):\n",
    "        image_id = self.fnames[index]\n",
    "        image = cv2.imread(test_data_folder + '/%s'%(image_id), cv2.IMREAD_COLOR)\n",
    "        return image_id, image\n",
    "    "
   ]
  },
  {
   "cell_type": "code",
   "execution_count": 5,
   "metadata": {},
   "outputs": [],
   "source": [
    "sample_submission_path = 'sample_submission.csv'\n",
    "test_data_folder = \"test_images\""
   ]
  },
  {
   "cell_type": "code",
   "execution_count": 6,
   "metadata": {},
   "outputs": [],
   "source": [
    "def null_collate(batch):\n",
    "    batch_size = len(batch)\n",
    "\n",
    "    input = []\n",
    "    infor = []\n",
    "    for b in range(batch_size):\n",
    "        input.append(batch[b][1])\n",
    "        infor.append(batch[b][0])\n",
    "\n",
    "    input = np.stack(input).astype(np.float32)/255\n",
    "    input = input.transpose(0,3,1,2)\n",
    "    \n",
    "    input = torch.from_numpy(input).float()\n",
    "    \n",
    "    return infor, input"
   ]
  },
  {
   "cell_type": "code",
   "execution_count": 7,
   "metadata": {},
   "outputs": [],
   "source": [
    "df = pd.read_csv(sample_submission_path)\n",
    "test_dataset = SteelDataset(df)\n",
    "\n",
    "test_loader = DataLoader(\n",
    "            test_dataset,\n",
    "            batch_size  = 2,\n",
    "            drop_last   = False,\n",
    "            num_workers = 0,\n",
    "            pin_memory  = True,\n",
    "            collate_fn  = null_collate\n",
    "    )"
   ]
  },
  {
   "cell_type": "code",
   "execution_count": 8,
   "metadata": {
    "_cell_guid": "79c7e3d0-c299-4dcb-8224-4455121ee9b0",
    "_uuid": "d629ff2d2480ee46fbb7e2d37f6b5fab8052498a"
   },
   "outputs": [],
   "source": [
    "\n",
    "#test time augmentation  -----------------------\n",
    "def null_augment   (input): return input\n",
    "def flip_lr_augment(input): return torch.flip(input, dims=[2])\n",
    "def flip_ud_augment(input): return torch.flip(input, dims=[3])\n",
    "\n",
    "def null_inverse_augment   (logit): return logit\n",
    "def flip_lr_inverse_augment(logit): return torch.flip(logit, dims=[2])\n",
    "def flip_ud_inverse_augment(logit): return torch.flip(logit, dims=[3])\n",
    "\n",
    "augment = (\n",
    "        (null_augment,   null_inverse_augment   ),\n",
    "        (flip_lr_augment,flip_lr_inverse_augment),\n",
    "        (flip_ud_augment,flip_ud_inverse_augment),\n",
    "    )\n"
   ]
  },
  {
   "cell_type": "code",
   "execution_count": 9,
   "metadata": {},
   "outputs": [],
   "source": [
    "TEMPERATE=0.5\n",
    "######################################################################################\n",
    "def probability_mask_to_probability_label(probability):\n",
    "    batch_size,num_class,H,W = probability.shape\n",
    "    probability = probability.permute(0, 2, 3, 1).contiguous().view(batch_size,-1, 5)\n",
    "    value, index = probability.max(1)\n",
    "    probability = value[:,1:]\n",
    "    return probability\n",
    "\n",
    "\n",
    "def remove_small_one(predict, min_size):\n",
    "    H,W = predict.shape\n",
    "    num_component, component = cv2.connectedComponents(predict.astype(np.uint8))\n",
    "    predict = np.zeros((H,W), np.bool)\n",
    "    for c in range(1,num_component):\n",
    "        p = (component==c)\n",
    "        if p.sum()>min_size:\n",
    "            predict[p] = True\n",
    "    return predict\n",
    "\n",
    "def remove_small(predict, min_size):\n",
    "    for b in range(len(predict)):\n",
    "        for c in range(4):\n",
    "            predict[b,c] = remove_small_one(predict[b,c], min_size[c])\n",
    "    return predict\n"
   ]
  },
  {
   "cell_type": "code",
   "execution_count": 10,
   "metadata": {},
   "outputs": [],
   "source": [
    "def do_evaluate_segmentation(net, test_loader, augment=[]):\n",
    "\n",
    "    #----\n",
    "\n",
    "    #def sharpen(p,t=0):\n",
    "    def sharpen(p,t=TEMPERATE):\n",
    "        if t!=0:\n",
    "            return p**t\n",
    "        else:\n",
    "            return p\n",
    "\n",
    "\n",
    "    test_num  = 0\n",
    "    test_id   = []\n",
    "    #test_image = []\n",
    "    test_probability_label = [] # 8bit\n",
    "    test_probability_mask  = [] # 8bit\n",
    "    test_truth_label = []\n",
    "    test_truth_mask  = []\n",
    "\n",
    "    #start = timer()\n",
    "    for t, (fnames, input) in enumerate(tqdm(test_loader)):\n",
    "\n",
    "        batch_size,C,H,W = input.shape\n",
    "        input = input.cuda()\n",
    "\n",
    "        with torch.no_grad():\n",
    "            net.eval()\n",
    "\n",
    "            num_augment = 0\n",
    "            if 1: #  null\n",
    "                logit =  net(input)\n",
    "                probability = torch.softmax(logit,1)\n",
    "\n",
    "                probability_mask = sharpen(probability,0)\n",
    "                num_augment+=1\n",
    "\n",
    "            if 'flip_lr' in augment:\n",
    "                logit = net(torch.flip(input,dims=[3]))\n",
    "                probability  = torch.softmax(torch.flip(logit,dims=[3]),1)\n",
    "\n",
    "                probability_mask += sharpen(probability)\n",
    "                num_augment+=1\n",
    "\n",
    "            if 'flip_ud' in augment:\n",
    "                logit = net(torch.flip(input,dims=[2]))\n",
    "                probability = torch.softmax(torch.flip(logit,dims=[2]),1)\n",
    "\n",
    "                probability_mask += sharpen(probability)\n",
    "                num_augment+=1\n",
    "\n",
    "            #---\n",
    "            probability_mask = probability_mask/num_augment\n",
    "            probability_label = probability_mask_to_probability_label(probability_mask)\n",
    "\n",
    "        probability_mask = (probability_mask.data.cpu().numpy()*255).astype(np.uint8)\n",
    "        probability_label = (probability_label.data.cpu().numpy()*255).astype(np.uint8)\n",
    "\n",
    "        test_id.extend([i for i in fnames])\n",
    "\n",
    "        test_probability_mask.append(probability_mask)\n",
    "        test_probability_label.append(probability_label)\n",
    "        \n",
    "    test_probability_mask = np.concatenate(test_probability_mask)\n",
    "    test_probability_label = np.concatenate(test_probability_label)\n",
    "    \n",
    "    \n",
    "    return test_probability_label, test_probability_mask, test_id\n"
   ]
  },
  {
   "cell_type": "code",
   "execution_count": 11,
   "metadata": {},
   "outputs": [
    {
     "name": "stdout",
     "output_type": "stream",
     "text": [
      "trace_model_swa.pth\r\n"
     ]
    }
   ],
   "source": [
    "!ls henge5"
   ]
  },
  {
   "cell_type": "code",
   "execution_count": 12,
   "metadata": {},
   "outputs": [],
   "source": [
    "ckpt_file = 'henge5/trace_model_swa.pth'\n",
    "net = torch.jit.load(ckpt_file).cuda()\n"
   ]
  },
  {
   "cell_type": "code",
   "execution_count": 13,
   "metadata": {},
   "outputs": [
    {
     "name": "stderr",
     "output_type": "stream",
     "text": [
      "100%|██████████| 901/901 [02:11<00:00,  4.92it/s]\n"
     ]
    }
   ],
   "source": [
    "probability_label, probability_mask, image_id = do_evaluate_segmentation(net, test_loader, augment=['null'])"
   ]
  },
  {
   "cell_type": "code",
   "execution_count": 14,
   "metadata": {},
   "outputs": [
    {
     "data": {
      "text/plain": [
       "20"
      ]
     },
     "execution_count": 14,
     "metadata": {},
     "output_type": "execute_result"
    }
   ],
   "source": [
    "del net\n",
    "gc.collect()"
   ]
  },
  {
   "cell_type": "code",
   "execution_count": 15,
   "metadata": {},
   "outputs": [],
   "source": [
    "#value = np.max(probability_mask,1,keepdims=True)\n",
    "#value = probability_mask*(value==probability_mask)\n",
    "probability_mask = probability_mask[:,1:] #remove background class\n"
   ]
  },
  {
   "cell_type": "code",
   "execution_count": 16,
   "metadata": {},
   "outputs": [],
   "source": [
    "threshold_label      = [ 0.70, 0.8, 0.50, 0.70,]\n",
    "threshold_mask_pixel = [ 0.6, 0.8, 0.5, 0.6,]\n",
    "threshold_mask_size  = [ 1,  1,  1,  1,]"
   ]
  },
  {
   "cell_type": "code",
   "execution_count": 17,
   "metadata": {},
   "outputs": [],
   "source": [
    "predict_label = probability_label>(np.array(threshold_label)*255).astype(np.uint8).reshape(1,4)\n",
    "predict_mask  = probability_mask>(np.array(threshold_mask_pixel)*255).astype(np.uint8).reshape(1,4,1,1)"
   ]
  },
  {
   "cell_type": "code",
   "execution_count": 18,
   "metadata": {},
   "outputs": [],
   "source": [
    "def mask2rle(img):\n",
    "    '''\n",
    "    img: numpy array, 1 - mask, 0 - background\n",
    "    Returns run length as string formated\n",
    "    '''\n",
    "    pixels= img.T.flatten()\n",
    "    pixels = np.concatenate([[0], pixels, [0]])\n",
    "    runs = np.where(pixels[1:] != pixels[:-1])[0] + 1\n",
    "    runs[1::2] -= runs[::2]\n",
    "    return ' '.join(str(x) for x in runs)"
   ]
  },
  {
   "cell_type": "code",
   "execution_count": 19,
   "metadata": {},
   "outputs": [],
   "source": [
    "image_id_class_id = []\n",
    "encoded_pixel = []\n",
    "for b in range(len(image_id)):\n",
    "    for c in range(4):\n",
    "        image_id_class_id.append(image_id[b]+'_%d'%(c+1))\n",
    "\n",
    "        if predict_label[b,c]==0:\n",
    "            rle=''\n",
    "        else:\n",
    "            rle = mask2rle(predict_mask[b,c])\n",
    "        encoded_pixel.append(rle)"
   ]
  },
  {
   "cell_type": "code",
   "execution_count": 20,
   "metadata": {},
   "outputs": [],
   "source": [
    "df = pd.DataFrame(zip(image_id_class_id, encoded_pixel), columns=['ImageId_ClassId', 'EncodedPixels'])\n",
    "df.to_csv('submission.csv', index=False)"
   ]
  },
  {
   "cell_type": "code",
   "execution_count": 21,
   "metadata": {},
   "outputs": [
    {
     "data": {
      "text/html": [
       "<div>\n",
       "<style scoped>\n",
       "    .dataframe tbody tr th:only-of-type {\n",
       "        vertical-align: middle;\n",
       "    }\n",
       "\n",
       "    .dataframe tbody tr th {\n",
       "        vertical-align: top;\n",
       "    }\n",
       "\n",
       "    .dataframe thead th {\n",
       "        text-align: right;\n",
       "    }\n",
       "</style>\n",
       "<table border=\"1\" class=\"dataframe\">\n",
       "  <thead>\n",
       "    <tr style=\"text-align: right;\">\n",
       "      <th></th>\n",
       "      <th>ImageId_ClassId</th>\n",
       "      <th>EncodedPixels</th>\n",
       "    </tr>\n",
       "  </thead>\n",
       "  <tbody>\n",
       "    <tr>\n",
       "      <th>0</th>\n",
       "      <td>004f40c73.jpg_1</td>\n",
       "      <td></td>\n",
       "    </tr>\n",
       "    <tr>\n",
       "      <th>1</th>\n",
       "      <td>004f40c73.jpg_2</td>\n",
       "      <td></td>\n",
       "    </tr>\n",
       "    <tr>\n",
       "      <th>2</th>\n",
       "      <td>004f40c73.jpg_3</td>\n",
       "      <td></td>\n",
       "    </tr>\n",
       "    <tr>\n",
       "      <th>3</th>\n",
       "      <td>004f40c73.jpg_4</td>\n",
       "      <td></td>\n",
       "    </tr>\n",
       "    <tr>\n",
       "      <th>4</th>\n",
       "      <td>006f39c41.jpg_1</td>\n",
       "      <td></td>\n",
       "    </tr>\n",
       "  </tbody>\n",
       "</table>\n",
       "</div>"
      ],
      "text/plain": [
       "   ImageId_ClassId EncodedPixels\n",
       "0  004f40c73.jpg_1              \n",
       "1  004f40c73.jpg_2              \n",
       "2  004f40c73.jpg_3              \n",
       "3  004f40c73.jpg_4              \n",
       "4  006f39c41.jpg_1              "
      ]
     },
     "execution_count": 21,
     "metadata": {},
     "output_type": "execute_result"
    }
   ],
   "source": [
    "df.head()"
   ]
  },
  {
   "cell_type": "code",
   "execution_count": 22,
   "metadata": {},
   "outputs": [],
   "source": [
    "\n",
    "def summarise_submission_csv(df):\n",
    "\n",
    "\n",
    "    text = ''\n",
    "    df['Class'] = df['ImageId_ClassId'].str[-1].astype(np.int32)\n",
    "    df['Label'] = (df['EncodedPixels']!='').astype(np.int32)\n",
    "    num_image = len(df)//4\n",
    "    num = len(df)\n",
    "\n",
    "    pos = (df['Label']==1).sum()\n",
    "    neg = num-pos\n",
    "\n",
    "\n",
    "    pos1 = ((df['Class']==1) & (df['Label']==1)).sum()\n",
    "    pos2 = ((df['Class']==2) & (df['Label']==1)).sum()\n",
    "    pos3 = ((df['Class']==3) & (df['Label']==1)).sum()\n",
    "    pos4 = ((df['Class']==4) & (df['Label']==1)).sum()\n",
    "\n",
    "    neg1 = num_image-pos1\n",
    "    neg2 = num_image-pos2\n",
    "    neg3 = num_image-pos3\n",
    "    neg4 = num_image-pos4\n",
    "\n",
    "\n",
    "    text += 'compare with LB probing ... \\n'\n",
    "    text += '\\t\\tnum_image = %5d(1801) \\n'%num_image\n",
    "    text += '\\t\\tnum  = %5d(7204) \\n'%num\n",
    "    text += '\\n'\n",
    "\n",
    "    text += '\\t\\tpos1 = %5d( 128)  %0.3f\\n'%(pos1,pos1/128)\n",
    "    text += '\\t\\tpos2 = %5d(  43)  %0.3f\\n'%(pos2,pos2/43)\n",
    "    text += '\\t\\tpos3 = %5d( 741)  %0.3f\\n'%(pos3,pos3/741)\n",
    "    text += '\\t\\tpos4 = %5d( 120)  %0.3f\\n'%(pos4,pos4/120)\n",
    "    text += '\\n'\n",
    "\n",
    "    text += '\\t\\tneg1 = %5d(1673)  %0.3f  %3d\\n'%(neg1,neg1/1673, neg1-1673)\n",
    "    text += '\\t\\tneg2 = %5d(1758)  %0.3f  %3d\\n'%(neg2,neg2/1758, neg2-1758)\n",
    "    text += '\\t\\tneg3 = %5d(1060)  %0.3f  %3d\\n'%(neg3,neg3/1060, neg3-1060)\n",
    "    text += '\\t\\tneg4 = %5d(1681)  %0.3f  %3d\\n'%(neg4,neg4/1681, neg4-1681)\n",
    "    text += '--------------------------------------------------\\n'\n",
    "    text += '\\t\\tneg  = %5d(6172)  %0.3f  %3d \\n'%(neg,neg/6172, neg-6172)\n",
    "    text += '\\n'\n",
    "\n",
    "    if 1:\n",
    "        #compare with reference\n",
    "        pass\n",
    "\n",
    "    return text\n"
   ]
  },
  {
   "cell_type": "code",
   "execution_count": 23,
   "metadata": {},
   "outputs": [
    {
     "name": "stdout",
     "output_type": "stream",
     "text": [
      "compare with LB probing ... \n",
      "\t\tnum_image =  1801(1801) \n",
      "\t\tnum  =  7204(7204) \n",
      "\n",
      "\t\tpos1 =   129( 128)  1.008\n",
      "\t\tpos2 =    46(  43)  1.070\n",
      "\t\tpos3 =   454( 741)  0.613\n",
      "\t\tpos4 =   112( 120)  0.933\n",
      "\n",
      "\t\tneg1 =  1672(1673)  0.999   -1\n",
      "\t\tneg2 =  1755(1758)  0.998   -3\n",
      "\t\tneg3 =  1347(1060)  1.271  287\n",
      "\t\tneg4 =  1689(1681)  1.005    8\n",
      "--------------------------------------------------\n",
      "\t\tneg  =  6463(6172)  1.047  291 \n",
      "\n",
      "\n"
     ]
    }
   ],
   "source": [
    "## print statistics ----\n",
    "text = summarise_submission_csv(df)\n",
    "print(text)\n"
   ]
  },
  {
   "cell_type": "markdown",
   "metadata": {},
   "source": [
    "The results are extremely sensitive to the thresholds. So play with the thresholds and see the change on LB. You can also try adding Test time Augmentation(TTA) and see if it performs better on LB. Good luck and Happy Kaggling"
   ]
  },
  {
   "cell_type": "code",
   "execution_count": 65,
   "metadata": {},
   "outputs": [],
   "source": [
    "# replace nsn in submission\n",
    "df = pd.read_csv('submission.csv')"
   ]
  },
  {
   "cell_type": "code",
   "execution_count": 66,
   "metadata": {},
   "outputs": [
    {
     "data": {
      "text/html": [
       "<div>\n",
       "<style scoped>\n",
       "    .dataframe tbody tr th:only-of-type {\n",
       "        vertical-align: middle;\n",
       "    }\n",
       "\n",
       "    .dataframe tbody tr th {\n",
       "        vertical-align: top;\n",
       "    }\n",
       "\n",
       "    .dataframe thead th {\n",
       "        text-align: right;\n",
       "    }\n",
       "</style>\n",
       "<table border=\"1\" class=\"dataframe\">\n",
       "  <thead>\n",
       "    <tr style=\"text-align: right;\">\n",
       "      <th></th>\n",
       "      <th>ImageId_ClassId</th>\n",
       "      <th>EncodedPixels</th>\n",
       "    </tr>\n",
       "  </thead>\n",
       "  <tbody>\n",
       "    <tr>\n",
       "      <th>0</th>\n",
       "      <td>004f40c73.jpg_1</td>\n",
       "      <td>1 0</td>\n",
       "    </tr>\n",
       "    <tr>\n",
       "      <th>1</th>\n",
       "      <td>004f40c73.jpg_2</td>\n",
       "      <td>1 0</td>\n",
       "    </tr>\n",
       "    <tr>\n",
       "      <th>2</th>\n",
       "      <td>004f40c73.jpg_3</td>\n",
       "      <td>1 0</td>\n",
       "    </tr>\n",
       "    <tr>\n",
       "      <th>3</th>\n",
       "      <td>004f40c73.jpg_4</td>\n",
       "      <td>1 0</td>\n",
       "    </tr>\n",
       "    <tr>\n",
       "      <th>4</th>\n",
       "      <td>006f39c41.jpg_1</td>\n",
       "      <td>1 0</td>\n",
       "    </tr>\n",
       "  </tbody>\n",
       "</table>\n",
       "</div>"
      ],
      "text/plain": [
       "   ImageId_ClassId EncodedPixels\n",
       "0  004f40c73.jpg_1           1 0\n",
       "1  004f40c73.jpg_2           1 0\n",
       "2  004f40c73.jpg_3           1 0\n",
       "3  004f40c73.jpg_4           1 0\n",
       "4  006f39c41.jpg_1           1 0"
      ]
     },
     "execution_count": 66,
     "metadata": {},
     "output_type": "execute_result"
    }
   ],
   "source": [
    "df.head()"
   ]
  },
  {
   "cell_type": "code",
   "execution_count": 67,
   "metadata": {},
   "outputs": [],
   "source": [
    "df.EncodedPixels.fillna(value='1 0',inplace=True)"
   ]
  },
  {
   "cell_type": "code",
   "execution_count": 68,
   "metadata": {},
   "outputs": [
    {
     "data": {
      "text/html": [
       "<div>\n",
       "<style scoped>\n",
       "    .dataframe tbody tr th:only-of-type {\n",
       "        vertical-align: middle;\n",
       "    }\n",
       "\n",
       "    .dataframe tbody tr th {\n",
       "        vertical-align: top;\n",
       "    }\n",
       "\n",
       "    .dataframe thead th {\n",
       "        text-align: right;\n",
       "    }\n",
       "</style>\n",
       "<table border=\"1\" class=\"dataframe\">\n",
       "  <thead>\n",
       "    <tr style=\"text-align: right;\">\n",
       "      <th></th>\n",
       "      <th>ImageId_ClassId</th>\n",
       "      <th>EncodedPixels</th>\n",
       "    </tr>\n",
       "  </thead>\n",
       "  <tbody>\n",
       "    <tr>\n",
       "      <th>0</th>\n",
       "      <td>004f40c73.jpg_1</td>\n",
       "      <td>1 0</td>\n",
       "    </tr>\n",
       "    <tr>\n",
       "      <th>1</th>\n",
       "      <td>004f40c73.jpg_2</td>\n",
       "      <td>1 0</td>\n",
       "    </tr>\n",
       "    <tr>\n",
       "      <th>2</th>\n",
       "      <td>004f40c73.jpg_3</td>\n",
       "      <td>1 0</td>\n",
       "    </tr>\n",
       "    <tr>\n",
       "      <th>3</th>\n",
       "      <td>004f40c73.jpg_4</td>\n",
       "      <td>1 0</td>\n",
       "    </tr>\n",
       "    <tr>\n",
       "      <th>4</th>\n",
       "      <td>006f39c41.jpg_1</td>\n",
       "      <td>1 0</td>\n",
       "    </tr>\n",
       "  </tbody>\n",
       "</table>\n",
       "</div>"
      ],
      "text/plain": [
       "   ImageId_ClassId EncodedPixels\n",
       "0  004f40c73.jpg_1           1 0\n",
       "1  004f40c73.jpg_2           1 0\n",
       "2  004f40c73.jpg_3           1 0\n",
       "3  004f40c73.jpg_4           1 0\n",
       "4  006f39c41.jpg_1           1 0"
      ]
     },
     "execution_count": 68,
     "metadata": {},
     "output_type": "execute_result"
    }
   ],
   "source": [
    "df.head()"
   ]
  },
  {
   "cell_type": "code",
   "execution_count": 69,
   "metadata": {},
   "outputs": [],
   "source": [
    "df.to_csv('submission.csv', index=False)"
   ]
  },
  {
   "cell_type": "code",
   "execution_count": null,
   "metadata": {},
   "outputs": [],
   "source": []
  }
 ],
 "metadata": {
  "kernelspec": {
   "display_name": "Python 3",
   "language": "python",
   "name": "python3"
  },
  "language_info": {
   "codemirror_mode": {
    "name": "ipython",
    "version": 3
   },
   "file_extension": ".py",
   "mimetype": "text/x-python",
   "name": "python",
   "nbconvert_exporter": "python",
   "pygments_lexer": "ipython3",
   "version": "3.7.2"
  }
 },
 "nbformat": 4,
 "nbformat_minor": 1
}
